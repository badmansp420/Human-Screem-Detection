{
 "cells": [
  {
   "cell_type": "code",
   "execution_count": 7,
   "metadata": {},
   "outputs": [],
   "source": [
    "import os\n",
    "import librosa\n",
    "import numpy as np\n",
    "from scipy.io import wavfile\n",
    "from sklearn.preprocessing import MinMaxScaler,StandardScaler\n",
    "from sklearn.model_selection import train_test_split\n",
    "from sklearn.linear_model import LogisticRegression\n",
    "from sklearn.svm import SVC\n",
    "from sklearn.neighbors import KNeighborsClassifier\n",
    "from sklearn.neural_network import MLPClassifier\n",
    "from sklearn.metrics import accuracy_score,classification_report"
   ]
  },
  {
   "cell_type": "code",
   "execution_count": 8,
   "metadata": {},
   "outputs": [],
   "source": [
    "def extract_features(file_path):\n",
    "    sample_rate, audio_data= wavfile.read(file_path) \n",
    "    # print(len(audio_data) )\n",
    "    # print(sample_rate, audio_data) \n",
    "    mfcc_features = np.mean(librosa.feature.mfcc(y=audio_data.astype(float),sr=sample_rate,n_mfcc=23),axis=1) \n",
    "    return mfcc_features\n"
   ]
  },
  {
   "cell_type": "code",
   "execution_count": 9,
   "metadata": {},
   "outputs": [],
   "source": [
    "def load_data(data_dir):\n",
    "    features=[]\n",
    "    labels=[]\n",
    "    \n",
    "    for label in os.listdir(data_dir): \n",
    "       label_path=os.path.join(data_dir,label)\n",
    "       \n",
    "       if os.path.isdir(label_path):\n",
    "        for filename in os.listdir(label_path):\n",
    "            file_path = os.path.join(label_path,filename)\n",
    "            if filename.endswith(\".wav\"):\n",
    "                 features.append(extract_features(file_path))\n",
    "                 labels.append(label)\n",
    "    return np.array(features) ,np.array(labels)                \n",
    "             "
   ]
  },
  {
   "cell_type": "code",
   "execution_count": 10,
   "metadata": {},
   "outputs": [],
   "source": [
    "from sklearn.metrics import confusion_matrix\n",
    "\n",
    "\n",
    "def evaluate_model(X_train,X_test,y_train,y_test):\n",
    "    classifiers=[LogisticRegression(max_iter=500,random_state=0),\n",
    "                 SVC(random_state=0),\n",
    "                 KNeighborsClassifier(n_neighbors=5),\n",
    "                 MLPClassifier(hidden_layer_sizes=(10,8),max_iter=500,random_state=0)]\n",
    "    \n",
    "    acc=[]\n",
    "    models=[]\n",
    "\n",
    "    for classifier in classifiers:\n",
    "        classifier.fit(X_train,y_train)\n",
    "        models.append(classifier)\n",
    "        \n",
    "        y_pred = classifier.predict(X_test)\n",
    "        \n",
    "        accuracy= accuracy_score(y_test,y_pred)\n",
    "        acc.append(accuracy)\n",
    "        \n",
    "        print(f\"For {classifier}:\")\n",
    "        print(f\"Accuracy {accuracy*100 :.2f}%\")\n",
    "        print(confusion_matrix(y_test,y_pred))\n",
    "        print(classification_report(y_test,y_pred))\n",
    "        print()\n",
    "        \n",
    "    best_model=models[np.argmax(np.array(acc))] \n",
    "    return best_model\n"
   ]
  },
  {
   "cell_type": "code",
   "execution_count": 11,
   "metadata": {},
   "outputs": [
    {
     "name": "stderr",
     "output_type": "stream",
     "text": [
      "/tmp/ipykernel_4203/40460756.py:2: WavFileWarning: Chunk (non-data) not understood, skipping it.\n",
      "  sample_rate, audio_data= wavfile.read(file_path)\n"
     ]
    },
    {
     "name": "stdout",
     "output_type": "stream",
     "text": [
      "For LogisticRegression(max_iter=500, random_state=0):\n",
      "Accuracy 100.00%\n",
      "[[23  0]\n",
      " [ 0 20]]\n",
      "              precision    recall  f1-score   support\n",
      "\n",
      "           0       1.00      1.00      1.00        23\n",
      "           1       1.00      1.00      1.00        20\n",
      "\n",
      "    accuracy                           1.00        43\n",
      "   macro avg       1.00      1.00      1.00        43\n",
      "weighted avg       1.00      1.00      1.00        43\n",
      "\n",
      "\n",
      "For SVC(random_state=0):\n",
      "Accuracy 100.00%\n",
      "[[23  0]\n",
      " [ 0 20]]\n",
      "              precision    recall  f1-score   support\n",
      "\n",
      "           0       1.00      1.00      1.00        23\n",
      "           1       1.00      1.00      1.00        20\n",
      "\n",
      "    accuracy                           1.00        43\n",
      "   macro avg       1.00      1.00      1.00        43\n",
      "weighted avg       1.00      1.00      1.00        43\n",
      "\n",
      "\n",
      "For KNeighborsClassifier():\n",
      "Accuracy 97.67%\n",
      "[[23  0]\n",
      " [ 1 19]]\n",
      "              precision    recall  f1-score   support\n",
      "\n",
      "           0       0.96      1.00      0.98        23\n",
      "           1       1.00      0.95      0.97        20\n",
      "\n",
      "    accuracy                           0.98        43\n",
      "   macro avg       0.98      0.97      0.98        43\n",
      "weighted avg       0.98      0.98      0.98        43\n",
      "\n",
      "\n",
      "For MLPClassifier(hidden_layer_sizes=(10, 8), max_iter=500, random_state=0):\n",
      "Accuracy 100.00%\n",
      "[[23  0]\n",
      " [ 0 20]]\n",
      "              precision    recall  f1-score   support\n",
      "\n",
      "           0       1.00      1.00      1.00        23\n",
      "           1       1.00      1.00      1.00        20\n",
      "\n",
      "    accuracy                           1.00        43\n",
      "   macro avg       1.00      1.00      1.00        43\n",
      "weighted avg       1.00      1.00      1.00        43\n",
      "\n",
      "\n",
      "Best Model : LogisticRegression(max_iter=500, random_state=0)\n",
      "[1]\n"
     ]
    }
   ],
   "source": [
    "if __name__ == \"__main__\":\n",
    "    data_dir=\"Audios\" #B:\\scream\\Audios\n",
    "    features,labels=load_data(data_dir)\n",
    "    labels[labels == 'positive'] = 1\n",
    "    labels[labels == 'negative'] = 0\n",
    "    labels= labels.astype(int)\n",
    "   # print(labels)\n",
    "    \n",
    "    X_train, X_test, y_train, y_test = train_test_split(features, labels, test_size=0.3, random_state=42) \n",
    "    \n",
    "    scaler=StandardScaler() # x = (x - mean_of_x)/ std_of_x\n",
    "    \n",
    "    X_train=scaler.fit_transform(X_train)\n",
    "    X_test=scaler.transform(X_test)\n",
    "    \n",
    "    best_model= evaluate_model(X_train,X_test,y_train,y_test)\n",
    "    \n",
    "    print(\"Best Model :\",best_model)\n",
    "    \n",
    "    file_path=\"single_prediction/133034__robinhood76__03023-cartoon-little-laughter.wav\"\n",
    "    data=extract_features(file_path)\n",
    "    data=scaler.transform(data.reshape(1,-1))\n",
    "    print(best_model.predict(data))    "
   ]
  },
  {
   "cell_type": "code",
   "execution_count": 12,
   "metadata": {},
   "outputs": [
    {
     "data": {
      "text/plain": [
       "numpy.int64"
      ]
     },
     "execution_count": 12,
     "metadata": {},
     "output_type": "execute_result"
    }
   ],
   "source": [
    "type(labels[0])"
   ]
  },
  {
   "cell_type": "code",
   "execution_count": null,
   "metadata": {},
   "outputs": [],
   "source": []
  }
 ],
 "metadata": {
  "kernelspec": {
   "display_name": "Python 3",
   "language": "python",
   "name": "python3"
  },
  "language_info": {
   "codemirror_mode": {
    "name": "ipython",
    "version": 3
   },
   "file_extension": ".py",
   "mimetype": "text/x-python",
   "name": "python",
   "nbconvert_exporter": "python",
   "pygments_lexer": "ipython3",
   "version": "3.11.6"
  }
 },
 "nbformat": 4,
 "nbformat_minor": 2
}
